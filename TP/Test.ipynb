{
 "cells": [
  {
   "cell_type": "code",
   "execution_count": 85,
   "id": "1101ccb7",
   "metadata": {},
   "outputs": [
    {
     "name": "stdout",
     "output_type": "stream",
     "text": [
      "[0. 7.]\n",
      "[-0.8944271909999159, 0.4472135954999579]\n",
      "[-0.31622776601683794, -0.9486832980505138]\n",
      "[0. 0.]\n",
      "[-2.21359436 -6.64078309]\n"
     ]
    },
    {
     "ename": "TypeError",
     "evalue": "dot() missing 1 required positional argument: 'b'",
     "output_type": "error",
     "traceback": [
      "\u001b[0;31m---------------------------------------------------------------------------\u001b[0m",
      "\u001b[0;31mTypeError\u001b[0m                                 Traceback (most recent call last)",
      "\u001b[0;32m/tmp/ipykernel_3432/1268606092.py\u001b[0m in \u001b[0;36m<module>\u001b[0;34m\u001b[0m\n\u001b[1;32m     23\u001b[0m \u001b[0;34m\u001b[0m\u001b[0m\n\u001b[1;32m     24\u001b[0m \u001b[0mcov1\u001b[0m\u001b[0;34m=\u001b[0m\u001b[0mnp\u001b[0m\u001b[0;34m.\u001b[0m\u001b[0mdot\u001b[0m\u001b[0;34m(\u001b[0m\u001b[0mA_vec_p\u001b[0m\u001b[0;34m.\u001b[0m\u001b[0mT\u001b[0m\u001b[0;34m,\u001b[0m\u001b[0mD\u001b[0m\u001b[0;34m)\u001b[0m\u001b[0;34m\u001b[0m\u001b[0;34m\u001b[0m\u001b[0m\n\u001b[0;32m---> 25\u001b[0;31m \u001b[0mCov\u001b[0m\u001b[0;34m=\u001b[0m\u001b[0mnp\u001b[0m\u001b[0;34m.\u001b[0m\u001b[0mdot\u001b[0m\u001b[0;34m(\u001b[0m\u001b[0;34m(\u001b[0m\u001b[0;36m1\u001b[0m\u001b[0;34m/\u001b[0m\u001b[0;36m2\u001b[0m\u001b[0;34m,\u001b[0m\u001b[0mnp\u001b[0m\u001b[0;34m.\u001b[0m\u001b[0mdot\u001b[0m\u001b[0;34m(\u001b[0m\u001b[0mcov1\u001b[0m\u001b[0;34m,\u001b[0m\u001b[0mA_vec_p\u001b[0m\u001b[0;34m)\u001b[0m\u001b[0;34m)\u001b[0m\u001b[0;34m)\u001b[0m\u001b[0;34m\u001b[0m\u001b[0;34m\u001b[0m\u001b[0m\n\u001b[0m\u001b[1;32m     26\u001b[0m \u001b[0mprint\u001b[0m\u001b[0;34m(\u001b[0m\u001b[0mCov\u001b[0m\u001b[0;34m)\u001b[0m\u001b[0;34m\u001b[0m\u001b[0;34m\u001b[0m\u001b[0m\n\u001b[1;32m     27\u001b[0m \u001b[0;34m\u001b[0m\u001b[0m\n",
      "\u001b[0;32m<__array_function__ internals>\u001b[0m in \u001b[0;36mdot\u001b[0;34m(*args, **kwargs)\u001b[0m\n",
      "\u001b[0;31mTypeError\u001b[0m: dot() missing 1 required positional argument: 'b'"
     ]
    }
   ],
   "source": [
    "import numpy as np\n",
    "\n",
    "A = np.array([[1, 2], [3, 6]])\n",
    "#print(A)\n",
    "\n",
    "A_val_p =np.linalg.eig(A)[0]\n",
    "print(A_val_p)\n",
    "\n",
    "vec1=[np.linalg.eig(A)[1][0][0],np.linalg.eig(A)[1][1][0]]\n",
    "vec2=[np.linalg.eig(A)[1][0][1],np.linalg.eig(A)[1][1][1]]\n",
    "print(vec1)\n",
    "print(vec2)\n",
    "print(np.dot(A,vec1))\n",
    "print(np.dot(7,vec2))\n",
    "\n",
    "A_vec_p = np.array([vec1,vec2])\n",
    "\n",
    "#A_vec_p =np.linalg.eig(A)[1]\n",
    "#print(A_vec_p)\n",
    "\n",
    "D=np.diag(A_val_p)\n",
    "#print(D)\n",
    "\n",
    "cov1=np.dot(A_vec_p.T,D)\n",
    "Cov=np.dot((1/2,np.dot(cov1,A_vec_p)))\n",
    "print(Cov)\n",
    "\n",
    "vec1=[np.linalg.eig(A)[1][0][1],np.linalg.eig(A)[1][1][1]]\n",
    "T1=np.dot(A,vec1)\n",
    "#print(T1)\n",
    "T2=np.dot(7,vec1)\n",
    "#print(T2)"
   ]
  },
  {
   "cell_type": "code",
   "execution_count": 84,
   "id": "14c1ffc2",
   "metadata": {},
   "outputs": [
    {
     "name": "stdout",
     "output_type": "stream",
     "text": [
      "[[4. 8.]]\n",
      "[[-1. -2.]\n",
      " [ 1.  2.]]\n",
      "[[1. 2.]\n",
      " [2. 4.]]\n"
     ]
    }
   ],
   "source": [
    "\n",
    "\n",
    "\n",
    "\n",
    "s1=np.zeros([1,2]) \n",
    "for k in  range(2):\n",
    "    for i in range(2):\n",
    "        s1[0][k]=s1[0][k]+A[i,k]\n",
    "print(s1)\n",
    "\n",
    "\n",
    "\n",
    "U=np.zeros([2,2])\n",
    "for i in  range(2):\n",
    "    for j in  range(2): \n",
    "            U[i,j] =A[i,j]-(1/2)*s1[0][j]\n",
    "print(U)\n",
    "\n",
    "                    #calcul de la matrice de covariance\n",
    "\n",
    "C=np.dot((1/2),np.dot(U.T,U))\n",
    "print(C)"
   ]
  },
  {
   "cell_type": "code",
   "execution_count": null,
   "id": "42722e1a",
   "metadata": {},
   "outputs": [],
   "source": []
  }
 ],
 "metadata": {
  "kernelspec": {
   "display_name": "Python 3 (ipykernel)",
   "language": "python",
   "name": "python3"
  },
  "language_info": {
   "codemirror_mode": {
    "name": "ipython",
    "version": 3
   },
   "file_extension": ".py",
   "mimetype": "text/x-python",
   "name": "python",
   "nbconvert_exporter": "python",
   "pygments_lexer": "ipython3",
   "version": "3.9.13"
  }
 },
 "nbformat": 4,
 "nbformat_minor": 5
}
